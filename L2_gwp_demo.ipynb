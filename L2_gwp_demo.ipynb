{
 "cells": [
  {
   "cell_type": "markdown",
   "metadata": {},
   "source": [
    "# Gaussian wavepackets\n",
    "\n",
    "We can write the form of a general Gaussian wavepacket wavefunction as\n",
    "\n",
    "$$\\Psi(x,t)=\\left(\\frac{2 Re(\\alpha(t_0))}{\\pi}\\right)^{1/4}e^{\\left(-\\alpha(t)(x-x_c(t))^2+i\\frac{p_c(t)}{\\hbar}(x-x_c(t))+i\\frac{\\gamma(t)}{\\hbar}\\right)}$$\n",
    "\n",
    "In this expression, $x_c$ and $p_c$ are two real parameters, and $\\alpha$ and $\\gamma$ are two complex parameters. All these parameters will change with time.\n",
    "\n",
    "Use the demonstration below to study the effect of each of the parameters on the shape of the wavefunction."
   ]
  },
  {
   "cell_type": "code",
   "execution_count": 1,
   "metadata": {},
   "outputs": [],
   "source": [
    "import numpy as np\n",
    "%matplotlib inline\n",
    "import matplotlib.pyplot as plt\n",
    "from ipywidgets import interact"
   ]
  },
  {
   "cell_type": "code",
   "execution_count": 2,
   "metadata": {},
   "outputs": [],
   "source": [
    "#the atomic units system is used, whereby hbar=1\n",
    "def gwp(x,xc,pc,a,g):\n",
    "    \"Gaussian wavepacket in one dimention\"\n",
    "    \n",
    "    return (2/np.pi*np.real(a))**0.25*np.exp(-a*(x-xc)**2+1j*pc*(x-xc)+1j*g)\n",
    "\n",
    "def gwp_p(p,xc,pc,a,g):\n",
    "    \"Gaussian wavepacket in the momentum representation\"\n",
    "    \n",
    "    return (np.real(a)/(2*np.pi*a**2))**0.25*np.exp(-1/(4*a)*(p-pc)**2+1j*xc*p-1j*g)"
   ]
  },
  {
   "cell_type": "code",
   "execution_count": 3,
   "metadata": {},
   "outputs": [
    {
     "data": {
      "application/vnd.jupyter.widget-view+json": {
       "model_id": "d0e81ab5d6ab45beba1b5af31d5e921a",
       "version_major": 2,
       "version_minor": 0
      },
      "text/plain": [
       "interactive(children=(FloatSlider(value=1.0, description='alpha_r', max=3.0, min=0.1), FloatSlider(value=0.0, …"
      ]
     },
     "metadata": {},
     "output_type": "display_data"
    }
   ],
   "source": [
    "x=np.linspace(-3,9,200)\n",
    "p=np.linspace(-3,9,200)\n",
    "\n",
    "@interact(alpha_r=(0.1,3,0.1),alpha_i=(-2,2,0.2),xc=(0,5,0.5),pc=(0,5,0.5),gamma_r=(0,2,0.2),gamma_i=(0,2,0.2))\n",
    "def gwidth(alpha_r=1,alpha_i=0,xc=0,pc=3,gamma_r=0,gamma_i=0):\n",
    "    (fig,(ax1,ax2)) = plt.subplots(nrows=2,figsize=(10,9))\n",
    "    ax1.plot(x,np.abs(gwp_p(p,xc,pc,alpha_r+1j*alpha_i,gamma_r+1j*gamma_i)),color=\"gray\")\n",
    "    ax1.plot(p,np.real(gwp_p(p,xc,pc,alpha_r+1j*alpha_i,gamma_r+1j*gamma_i)),color=\"blue\")\n",
    "    ax1.set(xlabel=\"p\",ylabel=\"$\\\\tilde{\\\\Psi}(p,0)$\",ylim=(-1.3,1.3))\n",
    "    \n",
    "    ax2.plot(x,np.abs(gwp(x,xc,pc,alpha_r+1j*alpha_i,gamma_r+1j*gamma_i)),color=\"gray\",label=\"$|\\\\Psi(x,0)|$\")\n",
    "    ax2.plot(x,np.real(gwp(x,xc,pc,alpha_r+1j*alpha_i,gamma_r+1j*gamma_i)),color=\"blue\",label=\"$Re(\\\\Psi(x,0))$\")\n",
    "    ax2.legend(loc=\"upper right\")\n",
    "    ax2.set(xlabel=\"x\",ylabel=\"$\\\\Psi(x,0)$\",ylim=(-1.3,1.3))\n",
    "    plt.show()"
   ]
  },
  {
   "cell_type": "code",
   "execution_count": null,
   "metadata": {},
   "outputs": [],
   "source": []
  },
  {
   "cell_type": "code",
   "execution_count": null,
   "metadata": {},
   "outputs": [],
   "source": []
  }
 ],
 "metadata": {
  "kernelspec": {
   "display_name": "Python 3 (ipykernel)",
   "language": "python",
   "name": "python3"
  },
  "language_info": {
   "codemirror_mode": {
    "name": "ipython",
    "version": 3
   },
   "file_extension": ".py",
   "mimetype": "text/x-python",
   "name": "python",
   "nbconvert_exporter": "python",
   "pygments_lexer": "ipython3",
   "version": "3.9.13"
  },
  "toc": {
   "base_numbering": 1,
   "nav_menu": {},
   "number_sections": true,
   "sideBar": true,
   "skip_h1_title": false,
   "title_cell": "Table of Contents",
   "title_sidebar": "Contents",
   "toc_cell": false,
   "toc_position": {},
   "toc_section_display": true,
   "toc_window_display": false
  }
 },
 "nbformat": 4,
 "nbformat_minor": 2
}
