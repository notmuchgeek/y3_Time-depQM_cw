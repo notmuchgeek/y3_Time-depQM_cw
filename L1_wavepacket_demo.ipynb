{
 "cells": [
  {
   "cell_type": "markdown",
   "metadata": {},
   "source": [
    "# How the parameters of a Gaussian distribution in momentum affect the wavefunction\n",
    "\n",
    "On slide 18 of lecture 1 it was discussed the wavefunction resulting from a Gaussian distribution of momentum of the form\n",
    "\n",
    "$$\\tilde{\\Psi}(p,0)=\\frac{1}{(2\\pi(\\hbar\\sigma_p)^2)^{1/4}}e^{-\\frac{(p-p_c)^2}{4(\\hbar\\sigma_p)^2}}$$\n",
    "\n",
    "which results in a wavefunction of the form:\n",
    "\n",
    "$$\\Psi(x,0)=\\left(\\frac{2{\\sigma_p}^2}{\\pi}\\right)^{1/4}e^{-\\frac{{\\sigma_p}^2 x^2}{\\hbar^2}}e^{i\\frac{p_c}{\\hbar}x}=\\frac{1}{(2\\pi{\\sigma_x}^2)^{1/4}}e^{-\\frac{x^2}{4{\\sigma_x}^2}}e^{i\\frac{p_c}{\\hbar}x}\\quad\\text{with}\\:\\sigma_x=\\frac{\\hbar}{2\\sigma_p}$$\n",
    "\n",
    "Use the following demonstration to determine how the parameters $p_c$ and $\\sigma_p$ affect both $\\tilde{\\Psi}(p,0)$ and $\\Psi(x,0)$. Try to explain your observations."
   ]
  },
  {
   "cell_type": "code",
   "execution_count": null,
   "metadata": {},
   "outputs": [],
   "source": [
    "import numpy as np\n",
    "%matplotlib inline\n",
    "import matplotlib.pyplot as plt\n",
    "from ipywidgets import interact"
   ]
  },
  {
   "cell_type": "code",
   "execution_count": null,
   "metadata": {},
   "outputs": [],
   "source": [
    "#here we use the atomic units system, whereby hbar=1\n",
    "def psi_p(p,sp,pc):\n",
    "    '''Real Gaussian momentum wavefunction'''\n",
    "    return (2*np.pi*sp**2)**(-0.25)*np.exp(-(p-pc)**2/(4*sp**2))\n",
    "    \n",
    "def psi_x(x,sx,pc):\n",
    "    '''Wavepacket which is the wavefuncton corresponding to psi_p'''\n",
    "    return (2*np.pi*sx**2)**(-0.25)*np.exp(-x**2/(4*sx**2))*np.e**(1j*pc*x)"
   ]
  },
  {
   "cell_type": "code",
   "execution_count": null,
   "metadata": {},
   "outputs": [],
   "source": [
    "x=np.linspace(-6,6,100)\n",
    "p=np.linspace(-3,9,100)\n",
    "\n",
    "@interact(sp=(0.1,1.5,0.1),pc=(0,5,0.5))\n",
    "def gwidth(sp,pc=3):\n",
    "    (fig,(ax1,ax2)) = plt.subplots(nrows=2,figsize=(9,9))\n",
    "    ax1.plot(p,np.real(psi_p(p,sp,pc)),color=\"blue\")\n",
    "    ax1.set(xlabel=\"p\",ylabel=\"$\\\\tilde{\\\\Psi}(p,0)$\",ylim=(0,2))\n",
    "    \n",
    "    ax2.plot(x,np.abs(psi_x(x,1/(2*sp),pc)),color=\"gray\",label=\"$|\\\\Psi(x,0)|$\")\n",
    "    ax2.plot(x,np.real(psi_x(x,1/(2*sp),pc)),color=\"blue\",label=\"$Re(\\\\Psi(x,0))$\")\n",
    "    ax2.legend(loc=\"upper right\")\n",
    "    ax2.set(xlabel=\"x\",ylabel=\"$\\\\Psi(x,0)$\",ylim=(-1.3,1.3))\n",
    "    plt.show()"
   ]
  }
 ],
 "metadata": {
  "kernelspec": {
   "display_name": "Python 3",
   "language": "python",
   "name": "python3"
  },
  "language_info": {
   "codemirror_mode": {
    "name": "ipython",
    "version": 3
   },
   "file_extension": ".py",
   "mimetype": "text/x-python",
   "name": "python",
   "nbconvert_exporter": "python",
   "pygments_lexer": "ipython3",
   "version": "3.7.3"
  }
 },
 "nbformat": 4,
 "nbformat_minor": 2
}
