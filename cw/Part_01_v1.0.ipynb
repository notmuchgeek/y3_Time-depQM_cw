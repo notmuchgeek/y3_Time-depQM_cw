{
 "cells": [
  {
   "cell_type": "code",
   "execution_count": 2,
   "id": "4929f5a8",
   "metadata": {},
   "outputs": [
    {
     "name": "stdout",
     "output_type": "stream",
     "text": [
      "Populating the interactive namespace from numpy and matplotlib\n"
     ]
    }
   ],
   "source": [
    "%pylab qt"
   ]
  },
  {
   "cell_type": "code",
   "execution_count": null,
   "id": "c3ef9f89",
   "metadata": {},
   "outputs": [],
   "source": [
    "def gwp(x,xc,pc,alpha,gamma):\n",
    "    \"\"\"Gaussian wavepacket in one dimension.\"\"\"\n",
    "    \n",
    "    return (2/pi*real(alpha))**0.25 * exp(-alpha*(x-xc)**2 + 1j*pc*(x-xc) + 1j*gamma)"
   ]
  },
  {
   "cell_type": "code",
   "execution_count": null,
   "id": "552f8414",
   "metadata": {},
   "outputs": [],
   "source": []
  },
  {
   "cell_type": "code",
   "execution_count": 8,
   "id": "51848ab7",
   "metadata": {},
   "outputs": [],
   "source": [
    "from qdyn import propagator, animate_dynamics\n"
   ]
  },
  {
   "cell_type": "code",
   "execution_count": 3,
   "id": "0c8a68da",
   "metadata": {},
   "outputs": [],
   "source": [
    "def V_ground(x):\n",
    "    de=0.19158\n",
    "    re=2.29716\n",
    "    beta=0.21098\n",
    "    te=0.1\n",
    "    return de*(1-re/x*np.exp(-beta*(x**2-re**2)))**2+te\n",
    "\n",
    "\n",
    "def V_excited(x):\n",
    "    de=0.03342\n",
    "    re=3.03150\n",
    "    beta=0.19459\n",
    "    te=0.327\n",
    "    return de*(1-re/x*np.exp(-beta*(x**2-re**2)))**2+te"
   ]
  },
  {
   "cell_type": "code",
   "execution_count": 4,
   "id": "03f9c748",
   "metadata": {},
   "outputs": [
    {
     "name": "stderr",
     "output_type": "stream",
     "text": [
      "C:\\Users\\AlbertCielstian\\AppData\\Local\\Temp\\ipykernel_22368\\1647881167.py:6: RuntimeWarning: divide by zero encountered in true_divide\n",
      "  return de*(1-re/x*np.exp(-beta*(x**2-re**2)))**2+te\n"
     ]
    },
    {
     "data": {
      "text/plain": [
       "(0.0, 0.6)"
      ]
     },
     "execution_count": 4,
     "metadata": {},
     "output_type": "execute_result"
    }
   ],
   "source": [
    "x=np.linspace(0,8,200)\n",
    "plt.plot(x,V_ground(x))\n",
    "plt.ylim([0,0.6])"
   ]
  },
  {
   "cell_type": "code",
   "execution_count": 5,
   "id": "87730ff9",
   "metadata": {},
   "outputs": [],
   "source": [
    "def k_grnd():\n",
    "    de=0.19158\n",
    "    re=2.29716\n",
    "    beta=0.21098\n",
    "    te=0.1\n",
    "    k_grnd = 2*de*(1/re+2*beta*re)**2\n",
    "    return k_grnd"
   ]
  },
  {
   "cell_type": "code",
   "execution_count": null,
   "id": "a0bec29c",
   "metadata": {},
   "outputs": [],
   "source": []
  },
  {
   "cell_type": "code",
   "execution_count": 6,
   "id": "ad7955a2",
   "metadata": {},
   "outputs": [],
   "source": [
    "from numpy.polynomial.hermite import hermval\n",
    "\n",
    "def eigen_ho(x,v,m,k):\n",
    "    \"\"\"Calculates the eigenfunction of the harmonic oscillator system.\n",
    "    \n",
    "    Arguments\n",
    "    x: is a space coordinate.\n",
    "    v: is the vibrational quantum number.\n",
    "    m: is the mas of the system.\n",
    "    k: is the force constant of the harmonic potential.\n",
    "    \"\"\"\n",
    "    \n",
    "    hermite_sum=zeros(v+1)\n",
    "    hermite_sum[-1]=1\n",
    "    return 1/(2**v * math.factorial(v))**0.5 * (((m*k)**0.5)/pi)**0.25 * np.e**(-x**2 * ((m*k)**0.5)/2) * hermval((m*k)**0.25 * x,hermite_sum) "
   ]
  },
  {
   "cell_type": "code",
   "execution_count": 9,
   "id": "721298e7",
   "metadata": {},
   "outputs": [
    {
     "ename": "NameError",
     "evalue": "name 'psi1' is not defined",
     "output_type": "error",
     "traceback": [
      "\u001b[1;31m---------------------------------------------------------------------------\u001b[0m",
      "\u001b[1;31mNameError\u001b[0m                                 Traceback (most recent call last)",
      "\u001b[1;32m~\\AppData\\Local\\Temp\\ipykernel_22368\\1109269339.py\u001b[0m in \u001b[0;36m<module>\u001b[1;34m\u001b[0m\n\u001b[0;32m      4\u001b[0m \u001b[0mx_grid\u001b[0m\u001b[1;33m=\u001b[0m\u001b[0mnp\u001b[0m\u001b[1;33m.\u001b[0m\u001b[0mlinspace\u001b[0m\u001b[1;33m(\u001b[0m\u001b[1;36m1\u001b[0m\u001b[1;33m,\u001b[0m\u001b[1;36m6\u001b[0m\u001b[1;33m,\u001b[0m\u001b[1;36m500\u001b[0m\u001b[1;33m)\u001b[0m\u001b[1;33m\u001b[0m\u001b[1;33m\u001b[0m\u001b[0m\n\u001b[0;32m      5\u001b[0m \u001b[0mpsi0\u001b[0m \u001b[1;33m=\u001b[0m \u001b[0meigen_ho\u001b[0m\u001b[1;33m(\u001b[0m\u001b[1;33m(\u001b[0m\u001b[0mx_grid\u001b[0m\u001b[1;33m-\u001b[0m\u001b[1;36m2.29716\u001b[0m\u001b[1;33m)\u001b[0m\u001b[1;33m,\u001b[0m\u001b[1;36m0\u001b[0m\u001b[1;33m,\u001b[0m\u001b[0mm\u001b[0m\u001b[1;33m,\u001b[0m\u001b[0mk_grnd\u001b[0m\u001b[1;33m(\u001b[0m\u001b[1;33m)\u001b[0m\u001b[1;33m)\u001b[0m\u001b[1;33m\u001b[0m\u001b[1;33m\u001b[0m\u001b[0m\n\u001b[1;32m----> 6\u001b[1;33m \u001b[0mnew_wf\u001b[0m\u001b[1;33m=\u001b[0m\u001b[0mpropagator\u001b[0m\u001b[1;33m(\u001b[0m\u001b[1;33m(\u001b[0m\u001b[0mx_grid\u001b[0m\u001b[1;33m-\u001b[0m\u001b[1;36m2.29716\u001b[0m\u001b[1;33m)\u001b[0m\u001b[1;33m,\u001b[0m\u001b[0mpsi1\u001b[0m\u001b[1;33m,\u001b[0m\u001b[0mm\u001b[0m\u001b[1;33m,\u001b[0m\u001b[0mdt\u001b[0m\u001b[1;33m,\u001b[0m\u001b[0mV_ground\u001b[0m\u001b[1;33m)\u001b[0m\u001b[1;33m\u001b[0m\u001b[1;33m\u001b[0m\u001b[0m\n\u001b[0m\u001b[0;32m      7\u001b[0m \u001b[1;33m\u001b[0m\u001b[0m\n\u001b[0;32m      8\u001b[0m \u001b[1;33m\u001b[0m\u001b[0m\n",
      "\u001b[1;31mNameError\u001b[0m: name 'psi1' is not defined"
     ]
    }
   ],
   "source": [
    "m=14583 #reduced mass of O2 in atomic units\n",
    "dt=10 #time step in atomic units (this is a relatively big step)\n",
    "\n",
    "x_grid=np.linspace(1,6,500)\n",
    "psi0 = eigen_ho((x_grid-2.29716),0,m,k_grnd())\n",
    "new_wf=propagator((x_grid-2.29716),psi1,m,dt,V_ground)\n",
    "\n",
    "\n",
    "plt.plot(x_grid,psi0)\n",
    "plt.plot(x_grid,V_ground(x_grid))"
   ]
  },
  {
   "cell_type": "code",
   "execution_count": 181,
   "id": "9581a81e",
   "metadata": {},
   "outputs": [
    {
     "data": {
      "text/plain": [
       "<matplotlib.animation.FuncAnimation at 0x1c1bfc014c0>"
      ]
     },
     "execution_count": 181,
     "metadata": {},
     "output_type": "execute_result"
    }
   ],
   "source": [
    "dt=0.001\n",
    "nsteps=500\n",
    "\n",
    "x_grid=np.linspace(1,6,500)\n",
    "psi0=eigen_ho((x_grid-2.29716),5,m,k_grnd())\n",
    "\n",
    "wf_dynamics=zeros((nsteps+1,len(x_grid)),dtype=complex128)\n",
    "wf_dynamics[0]=psi0\n",
    "\n",
    "for step in range(nsteps):\n",
    "    psi=propagator((x_grid-2.29716),wf_dynamics[step],m,dt,V_ground)\n",
    "    wf_dynamics[step+1]=psi\n",
    "\n",
    "animate_dynamics(x_grid,wf_dynamics,dt,V_ground(x_grid))"
   ]
  },
  {
   "cell_type": "code",
   "execution_count": 93,
   "id": "a8f4d2ae",
   "metadata": {},
   "outputs": [
    {
     "data": {
      "text/plain": [
       "(-2.3697074988954016e-54+0j)"
      ]
     },
     "execution_count": 93,
     "metadata": {},
     "output_type": "execute_result"
    }
   ],
   "source": [
    "trapz(wf_dynamics[0],wf_dynamics[0])"
   ]
  },
  {
   "cell_type": "code",
   "execution_count": null,
   "id": "a23fe026",
   "metadata": {},
   "outputs": [],
   "source": [
    "conj(wf_dynamics[0])*wf_dynamics"
   ]
  },
  {
   "cell_type": "code",
   "execution_count": 10,
   "id": "7bc1bdf7",
   "metadata": {},
   "outputs": [],
   "source": [
    "import numpy as np\n",
    "\n",
    "def TDM(x):\n",
    "    '''Transition dipole moment dependence on the inter-atomic\n",
    "    coordinate x for the O2 electronic transition.\n",
    "    The input x, and the output of the function are in atomic units.'''\n",
    "\n",
    "    #parameters for connecting function\n",
    "    ss=2\n",
    "    es=2.28\n",
    "    plateau=0.266\n",
    "    peak=0.94\n",
    "\n",
    "    #step function of order 7 (n=3)\n",
    "    xs=(x-ss)/(es-ss)\n",
    "    step= -20*xs**7 + 70*xs**6 - 84*xs**5 + 35*xs**4\n",
    "    step= plateau + (peak-plateau)*step\n",
    "\n",
    "    #exponential decay for higher x values\n",
    "    decay=3.85*np.exp(-0.626*x)\n",
    "\n",
    "    return np.where(x<ss,plateau,np.where(x>es,decay,step))"
   ]
  },
  {
   "cell_type": "code",
   "execution_count": 165,
   "id": "379d7055",
   "metadata": {},
   "outputs": [
    {
     "data": {
      "text/plain": [
       "<matplotlib.animation.FuncAnimation at 0x1c1bdb16640>"
      ]
     },
     "execution_count": 165,
     "metadata": {},
     "output_type": "execute_result"
    }
   ],
   "source": [
    "m=14583 #reduced mass of O2 in atomic units\n",
    "dt=1\n",
    "nsteps=500\n",
    "\n",
    "x_grid=np.linspace(1,6,500)\n",
    "\n",
    "wf_dynamics=zeros((nsteps+1,len(x_grid)),dtype=complex128)\n",
    "wf_dynamics[0]=psi0\n",
    "\n",
    "for step in range(nsteps):\n",
    "    psi=propagator((x_grid-2.29716),wf_dynamics[step],m,dt,V_ground)\n",
    "    wf_dynamics[step+1]=psi\n",
    "\n",
    "    \n",
    "animate_dynamics(x_grid,wf_dynamics,dt,V_ground(x_grid))\n"
   ]
  },
  {
   "cell_type": "code",
   "execution_count": null,
   "id": "e3025a51",
   "metadata": {
    "scrolled": true
   },
   "outputs": [],
   "source": [
    "m=14583 #reduced mass of O2 in atomic units\n",
    "dt=0.00001\n",
    "nsteps=50000\n",
    "\n",
    "x_grid=np.linspace(1,6,500)\n",
    "\n",
    "psi0=eigen_ho((x_grid-2.29716),0,m,k_grnd())\n",
    "wf_dynamics=zeros((nsteps+1,len(x_grid)),dtype=complex128)\n",
    "wf_dynamics[0]=psi0\n",
    "\n",
    "for step in range(nsteps):\n",
    "    psi=propagator((x_grid-2.29716),wf_dynamics[step],m,dt,V_ground)\n",
    "    wf_dynamics[step+1]=psi\n",
    "\n",
    "    \n",
    "\n",
    "psi0_exi=eigen_ho((x_grid-3.03150),0,m,k_grnd())\n",
    "wf_dynamics_exi=zeros((nsteps+1,len(x_grid)),dtype=complex128)\n",
    "wf_dynamics_exi[0]=psi0_exi\n",
    "\n",
    "for step in range(nsteps):\n",
    "    psi_exi=propagator((x_grid-2.29716),wf_dynamics_exi[step],m,dt,V_excited)\n",
    "    wf_dynamics_exi[step+1]=psi_exi    \n",
    "    \n",
    "#animate_dynamics(x_grid,wf_dynamics,dt,V_ground(x_grid))\n",
    "\n",
    "\n",
    "\n",
    "autocor_int = trapz(conj(wf_dynamics[0])*wf_dynamics_exi[1:],x_grid)\n",
    "\n",
    "\n",
    "\n",
    "# Obtain the inverse Fourier transform of gauss_t. Note that the values are shifted by fftshit()\n",
    "gauss_w=ifftshift(ifft(autocor_int,norm=\"ortho\")) \n",
    "spec = (2*pi)**(3/2)/(3*137.037)*gauss_w * TDM(2.29716)**2\n",
    "\n",
    "\n",
    "\n",
    "# Obtain the grid of frequency values. The d keyword specifies the spacing between time points.\n",
    "frequency=2 * pi * fftshift(fftfreq(nsteps,d=dt))\n",
    "\n",
    "spec_frq = spec*frequency\n",
    "\n",
    "plot(frequency,abs(spec_frq)) # Plot the transformed function\n",
    "xlim([0,1500])\n",
    "show()"
   ]
  },
  {
   "cell_type": "code",
   "execution_count": null,
   "id": "dda34a00",
   "metadata": {},
   "outputs": [],
   "source": [
    "psi0"
   ]
  },
  {
   "cell_type": "code",
   "execution_count": 25,
   "id": "a09e49f4",
   "metadata": {},
   "outputs": [],
   "source": [
    "# Final version\n",
    "\n",
    "\n",
    "m=14583 #reduced mass of O2 in atomic units\n",
    "dt=0.001\n",
    "nsteps=50000\n",
    "\n",
    "x_grid=np.linspace(1,6,500)\n",
    "\n",
    "psi0=eigen_ho((x_grid-2.29716),0,m,k_grnd())\n",
    "wf_dynamics=zeros((nsteps+1,len(x_grid)),dtype=complex128)\n",
    "wf_dynamics[0]=psi0\n",
    "\n",
    "\n",
    "\n",
    "psi0_exi=eigen_ho((x_grid-3.03150),0,m,k_grnd())\n",
    "wf_dynamics_exi=zeros((nsteps+1,len(x_grid)),dtype=complex128)\n",
    "wf_dynamics_exi[0]=psi0_exi\n",
    "\n",
    "for step in range(nsteps):\n",
    "    psi_exi=propagator((x_grid-2.29716),wf_dynamics_exi[step],m,dt,V_excited)\n",
    "    wf_dynamics_exi[step+1]=psi_exi    \n",
    "    \n",
    "#animate_dynamics(x_grid,wf_dynamics,dt,V_ground(x_grid))\n",
    "\n",
    "\n",
    "\n",
    "autocor_int = trapz(conj(wf_dynamics[0])*wf_dynamics_exi[1:],x_grid)\n",
    "\n",
    "\n",
    "\n",
    "# Obtain the inverse Fourier transform of gauss_t. Note that the values are shifted by fftshit()\n",
    "gauss_w=ifftshift(ifft(autocor_int,norm=\"ortho\")) \n",
    "spec = (2*pi)**(3/2)/(3*137.037)*gauss_w * TDM(2.29716)**2\n",
    "\n",
    "\n",
    "\n",
    "# Obtain the grid of frequency values. The d keyword specifies the spacing between time points.\n",
    "frequency=2 * pi * fftshift(fftfreq(nsteps,d=dt))\n",
    "\n",
    "spec_frq = spec*frequency\n",
    "\n",
    "\n",
    "plot(frequency,abs(spec_frq)) # Plot the transformed function\n",
    "xlim([0,400])\n",
    "show()"
   ]
  },
  {
   "cell_type": "code",
   "execution_count": null,
   "id": "fcc8f79c",
   "metadata": {},
   "outputs": [],
   "source": []
  }
 ],
 "metadata": {
  "kernelspec": {
   "display_name": "Python 3 (ipykernel)",
   "language": "python",
   "name": "python3"
  },
  "language_info": {
   "codemirror_mode": {
    "name": "ipython",
    "version": 3
   },
   "file_extension": ".py",
   "mimetype": "text/x-python",
   "name": "python",
   "nbconvert_exporter": "python",
   "pygments_lexer": "ipython3",
   "version": "3.9.13"
  },
  "toc": {
   "base_numbering": 1,
   "nav_menu": {},
   "number_sections": true,
   "sideBar": true,
   "skip_h1_title": false,
   "title_cell": "Table of Contents",
   "title_sidebar": "Contents",
   "toc_cell": false,
   "toc_position": {},
   "toc_section_display": true,
   "toc_window_display": false
  }
 },
 "nbformat": 4,
 "nbformat_minor": 5
}
