{
 "cells": [
  {
   "cell_type": "code",
   "execution_count": 31,
   "id": "6ed998f3",
   "metadata": {},
   "outputs": [],
   "source": [
    "import KiMoPack\n"
   ]
  },
  {
   "cell_type": "code",
   "execution_count": 32,
   "id": "afb1e618",
   "metadata": {},
   "outputs": [],
   "source": [
    "import os,sys\n",
    "import pandas as pd\n",
    "import numpy as np\n",
    "import matplotlib,lmfit\n",
    "import matplotlib.pyplot as plt\n",
    "try:\n",
    "    import KiMoPack.plot_func as pf\n",
    "except:\n",
    "    print(\"General installation did not work, try to import from the same folder as,a workaround\")\n",
    "    import plot_func as pf\n"
   ]
  },
  {
   "cell_type": "code",
   "execution_count": 33,
   "id": "77c8e6f5",
   "metadata": {},
   "outputs": [],
   "source": [
    "ta=np.loadtxt('TA_2D-DATA.mx3')\n",
    "\n"
   ]
  },
  {
   "cell_type": "code",
   "execution_count": 34,
   "id": "754f9e23",
   "metadata": {},
   "outputs": [],
   "source": [
    "%matplotlib qt"
   ]
  },
  {
   "cell_type": "code",
   "execution_count": 10,
   "id": "30006ac9",
   "metadata": {},
   "outputs": [
    {
     "ename": "AttributeError",
     "evalue": "'numpy.ndarray' object has no attribute 'Plot_RAW'",
     "output_type": "error",
     "traceback": [
      "\u001b[1;31m---------------------------------------------------------------------------\u001b[0m",
      "\u001b[1;31mAttributeError\u001b[0m                            Traceback (most recent call last)",
      "\u001b[1;32m~\\AppData\\Local\\Temp\\ipykernel_32956\\1008821799.py\u001b[0m in \u001b[0;36m<module>\u001b[1;34m\u001b[0m\n\u001b[1;32m----> 1\u001b[1;33m \u001b[0mta\u001b[0m\u001b[1;33m.\u001b[0m\u001b[0mPlot_RAW\u001b[0m\u001b[1;33m(\u001b[0m\u001b[0mtitle\u001b[0m\u001b[1;33m=\u001b[0m\u001b[1;34m'Kinetic traces at selected probe wavelengths'\u001b[0m\u001b[1;33m,\u001b[0m \u001b[0mplotting\u001b[0m\u001b[1;33m=\u001b[0m\u001b[1;33m[\u001b[0m\u001b[1;36m1\u001b[0m\u001b[1;33m]\u001b[0m\u001b[1;33m)\u001b[0m\u001b[1;33m\u001b[0m\u001b[1;33m\u001b[0m\u001b[0m\n\u001b[0m",
      "\u001b[1;31mAttributeError\u001b[0m: 'numpy.ndarray' object has no attribute 'Plot_RAW'"
     ]
    }
   ],
   "source": [
    "ta.Plot_RAW(title='Kinetic traces at selected probe wavelengths', plotting=[1])"
   ]
  },
  {
   "cell_type": "code",
   "execution_count": 35,
   "id": "b0097a72",
   "metadata": {},
   "outputs": [],
   "source": [
    "ta=pf.TA('gui')"
   ]
  },
  {
   "cell_type": "code",
   "execution_count": 20,
   "id": "26c8b11a",
   "metadata": {},
   "outputs": [],
   "source": [
    "ta.Plot_RAW(title='Kinetic traces at selected probe wavelengths', plotting=[0])"
   ]
  },
  {
   "cell_type": "code",
   "execution_count": 37,
   "id": "db981dde",
   "metadata": {},
   "outputs": [],
   "source": [
    "ta.Plot_RAW(title='Kinetic traces at selected probe wavelengths', plotting=[1])\n",
    "ta.Plot_RAW(title='TA spectra at selected delay-times', plotting=[2])\n",
    "ta.Plot_RAW(title='2D-Plot', plotting=[0])"
   ]
  },
  {
   "cell_type": "code",
   "execution_count": 38,
   "id": "60b5ad05",
   "metadata": {},
   "outputs": [],
   "source": [
    "ta.Plot_RAW(title='SVD', plotting=[3], savetype='pdf')"
   ]
  },
  {
   "cell_type": "code",
   "execution_count": 23,
   "id": "72cd43f1",
   "metadata": {},
   "outputs": [
    {
     "name": "stdout",
     "output_type": "stream",
     "text": [
      "\n",
      "Fit Results:\n",
      "Model Used: exponential\n",
      "\n",
      "The minimum error is:1.12443969e-03\n",
      "The minimum R2-value is:9.67552114e-01\n",
      "\n",
      "In Rates\n",
      "\n",
      "               value init_value   vary    min  max  expr\n",
      "k0          0.392438        0.5   True    0.1  4.0  None\n",
      "k1             0.005   0.006667   True  0.005  0.1  None\n",
      "k2           0.00001    0.00001  False      0  inf  None\n",
      "t0               0.0        0.0  False   -0.1  0.1  None\n",
      "resolution      0.12       0.12  False   0.04  0.2  None\n",
      "\n",
      "The rates converted to times with unit ps\n",
      "\n",
      "               value init_value   vary   min    max  expr\n",
      "k0          2.548173        2.0   True  0.25   10.0  None\n",
      "k1             200.0      150.0   True  10.0  200.0  None\n",
      "k2          100000.0   100000.0  False   0.0    inf  None\n",
      "t0               0.0        0.0  False  -0.1    0.1  None\n",
      "resolution      0.12       0.12  False  0.04    0.2  None\n"
     ]
    }
   ],
   "source": [
    "# Define fit parameters\n",
    "ta.par=lmfit.Parameters()\n",
    "# rate constants\n",
    "ta.par.add('k0',value=1/2, min=1/10.0, max=1/0.25, vary=True)\n",
    "ta.par.add('k1',value=1/150, min=1/200.0, max=1/10.0, vary=True)\n",
    "ta.par.add('k2',value=1/100000, vary=False)\n",
    "# time-zero parameter fixed during fit\n",
    "ta.par.add('t0',value=0.0, min=-0.1, max=0.1, vary=False)\n",
    "# pump-pulse width parameter fixed during fit\n",
    "ta.par.add('resolution', value=0.12, min=0.04, max=0.20, vary=False)\n",
    "# Select a in-build model (here: independent parallel decay)\n",
    "ta.mod='exponential'\n",
    "# set delay-time range for fit\n",
    "ta.timelimits=[0.35,2000]\n",
    "# global lifetime analysis (kinetic modeling)\n",
    "ta.Fit_Global()\n"
   ]
  },
  {
   "cell_type": "code",
   "execution_count": 24,
   "id": "2ff3f67a",
   "metadata": {},
   "outputs": [
    {
     "name": "stdout",
     "output_type": "stream",
     "text": [
      "Trying to find k0, lower confidence limit\n",
      "Trying to find k0, upper confidence limit\n",
      "Trying to find k1, lower confidence limit\n",
      "error in k1 at lower limit\n",
      "Trying to find k1, upper confidence limit\n",
      "it took 72 optimisations to get the confidence\n",
      "\n",
      "Fit Results:\n",
      "Model Used: exponential\n",
      "\n",
      "The minimum error is:1.12443969e-03\n",
      "The minimum R2-value is:9.67552114e-01\n",
      "\n",
      "In Rates with confidence interval to level of 95.0\n",
      "\n",
      "               value lower_limit upper_limit init_value   vary    min  max  expr\n",
      "k0          0.392438    0.368153    0.417721        0.5   True    0.1  4.0  None\n",
      "k1             0.005        None    0.007444   0.006667   True  0.005  0.1  None\n",
      "k2           0.00001        None        None    0.00001  False      0  inf  None\n",
      "t0               0.0        None        None        0.0  False   -0.1  0.1  None\n",
      "resolution      0.12        None        None       0.12  False   0.04  0.2  None\n",
      "\n",
      "The rates converted to times with unit ps with confidence interval to level of 95.0\n",
      "\n",
      "               value lower_limit upper_limit init_value   vary   min    max  expr\n",
      "k0          2.548173    2.393941    2.716263        2.0   True  0.25   10.0  None\n",
      "k1             200.0  134.343386    0.007444      150.0   True  10.0  200.0  None\n",
      "k2          100000.0        None        None   100000.0  False   0.0    inf  None\n",
      "t0               0.0        None        None        0.0  False  -0.1    0.1  None\n",
      "resolution      0.12        None        None       0.12  False  0.04    0.2  None\n"
     ]
    }
   ],
   "source": [
    "# fit-error estimation in a confidence interval of 95%\n",
    "ta.Fit_Global(confidence_level=0.95)\n"
   ]
  },
  {
   "cell_type": "code",
   "execution_count": 29,
   "id": "ce0152b1",
   "metadata": {},
   "outputs": [
    {
     "name": "stdout",
     "output_type": "stream",
     "text": [
      "ATTENTION: we have not optimized anything but just returned the parameters\n",
      "\n",
      "Fit Results:\n",
      "Model Used: exponential\n",
      "\n",
      "The minimum error is:1.12502960e-03\n",
      "The minimum R2-value is:9.67535091e-01\n",
      "\n",
      "In Rates\n",
      "\n",
      "               value init_value   vary    min  max  expr\n",
      "k0          0.417721   0.417721  False    0.1  4.0  None\n",
      "k1             0.005      0.005  False  0.005  0.1  None\n",
      "k2           0.00001    0.00001  False      0  inf  None\n",
      "t0               0.0        0.0  False   -0.1  0.1  None\n",
      "resolution      0.12       0.12  False   0.04  0.2  None\n",
      "\n",
      "The rates converted to times with unit ps\n",
      "\n",
      "               value init_value   vary   min    max  expr\n",
      "k0          2.393941   2.393941  False  0.25   10.0  None\n",
      "k1             200.0      200.0  False  10.0  200.0  None\n",
      "k2          100000.0   100000.0  False   0.0    inf  None\n",
      "t0               0.0        0.0  False  -0.1    0.1  None\n",
      "resolution      0.12       0.12  False  0.04    0.2  None\n",
      "ATTENTION: we have not optimized anything but just returned the parameters\n",
      "\n",
      "Fit Results:\n",
      "Model Used: exponential\n",
      "\n",
      "The minimum error is:1.12502927e-03\n",
      "The minimum R2-value is:9.67535100e-01\n",
      "\n",
      "In Rates\n",
      "\n",
      "               value init_value   vary    min  max  expr\n",
      "k0          0.368153   0.368153  False    0.1  4.0  None\n",
      "k1             0.005      0.005  False  0.005  0.1  None\n",
      "k2           0.00001    0.00001  False      0  inf  None\n",
      "t0               0.0        0.0  False   -0.1  0.1  None\n",
      "resolution      0.12       0.12  False   0.04  0.2  None\n",
      "\n",
      "The rates converted to times with unit ps\n",
      "\n",
      "               value init_value   vary   min    max  expr\n",
      "k0          2.716263   2.716263  False  0.25   10.0  None\n",
      "k1             200.0      200.0  False  10.0  200.0  None\n",
      "k2          100000.0   100000.0  False   0.0    inf  None\n",
      "t0               0.0        0.0  False  -0.1    0.1  None\n",
      "resolution      0.12       0.12  False  0.04    0.2  None\n"
     ]
    }
   ],
   "source": [
    "ta_listen=[ta.Copy(),ta.Copy()] #create a list for comparision\n",
    "#the Filename can be manipulated to use the automatic naming\n",
    "ta_listen[0].filename=\"upper confidence limit\"\n",
    "ta_listen[1].filename=\"lower confidence limit\"\n",
    "for i in range(2):\n",
    "    #short name for the calculated results for reduced writing\n",
    "    par=ta.re['fit_results_rates'].copy()\n",
    "    if i == 0:\n",
    "        #overwrite the value with the limits\n",
    "        par.loc['k0','value']=par.loc['k0','upper_limit']\n",
    "    else:\n",
    "        par.loc['k0','value']=par.loc['k0','lower_limit']\n",
    "    # Write the fit results as input parameter\n",
    "    ta_listen[i].par=pf.pardf_to_par(par)\n",
    "    for key in ta_listen[i].par.keys():\n",
    "        # Lock the parameter so that only the spectra are calculated\n",
    "        ta_listen[i].par[key].vary=False\n",
    "    # Run the global fit to calculate the new spectra\n",
    "    ta_listen[i].Fit_Global()\n"
   ]
  },
  {
   "cell_type": "code",
   "execution_count": 30,
   "id": "33b567b2",
   "metadata": {},
   "outputs": [
    {
     "data": {
      "text/plain": [
       "(-0.05, 0.02)"
      ]
     },
     "execution_count": 30,
     "metadata": {},
     "output_type": "execute_result"
    }
   ],
   "source": [
    "%matplotlib qt\n",
    "ta.Compare_at_wave(fitted=True,\n",
    "other=ta_listen,\n",
    "rel_wave=[450,590],\n",
    "width=50,\n",
    "linewidth=3)\n",
    "ax=plt.gca() # get a handle to the drawn axis\n",
    "ax.set_ylim(-50e-3,20e-3) # set the ylimit of the plot\n"
   ]
  },
  {
   "cell_type": "code",
   "execution_count": null,
   "id": "b2740b80",
   "metadata": {},
   "outputs": [],
   "source": []
  }
 ],
 "metadata": {
  "kernelspec": {
   "display_name": "Python 3 (ipykernel)",
   "language": "python",
   "name": "python3"
  },
  "language_info": {
   "codemirror_mode": {
    "name": "ipython",
    "version": 3
   },
   "file_extension": ".py",
   "mimetype": "text/x-python",
   "name": "python",
   "nbconvert_exporter": "python",
   "pygments_lexer": "ipython3",
   "version": "3.9.13"
  },
  "toc": {
   "base_numbering": 1,
   "nav_menu": {},
   "number_sections": true,
   "sideBar": true,
   "skip_h1_title": false,
   "title_cell": "Table of Contents",
   "title_sidebar": "Contents",
   "toc_cell": false,
   "toc_position": {},
   "toc_section_display": true,
   "toc_window_display": false
  }
 },
 "nbformat": 4,
 "nbformat_minor": 5
}
