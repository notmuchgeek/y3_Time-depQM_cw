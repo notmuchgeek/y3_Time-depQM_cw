{
 "cells": [
  {
   "cell_type": "code",
   "execution_count": 51,
   "id": "4929f5a8",
   "metadata": {},
   "outputs": [
    {
     "name": "stdout",
     "output_type": "stream",
     "text": [
      "Populating the interactive namespace from numpy and matplotlib\n"
     ]
    },
    {
     "name": "stderr",
     "output_type": "stream",
     "text": [
      "D:\\anaconda3\\lib\\site-packages\\IPython\\core\\magics\\pylab.py:159: UserWarning: pylab import has clobbered these variables: ['re', 'step', 'beta']\n",
      "`%matplotlib` prevents importing * from pylab and numpy\n",
      "  warn(\"pylab import has clobbered these variables: %s\"  % clobbered +\n"
     ]
    }
   ],
   "source": [
    "%pylab qt"
   ]
  },
  {
   "cell_type": "code",
   "execution_count": 52,
   "id": "51848ab7",
   "metadata": {},
   "outputs": [],
   "source": [
    "from qdyn import propagator, animate_dynamics"
   ]
  },
  {
   "cell_type": "code",
   "execution_count": 46,
   "id": "0c8a68da",
   "metadata": {},
   "outputs": [],
   "source": [
    "def V_ground(x):\n",
    "    de=0.19158\n",
    "    re=2.29716\n",
    "    beta=0.21098\n",
    "    te=0.1\n",
    "    return de*(1-re/x*np.exp(-beta*(x**2-re**2)))**2+te\n",
    "\n",
    "\n",
    "def V_excited(x):\n",
    "    de=0.03342\n",
    "    re=3.03150\n",
    "    beta=0.19459\n",
    "    te=0.327\n",
    "    return de*(1-re/x*np.exp(-beta*(x**2-re**2)))**2+te"
   ]
  },
  {
   "cell_type": "code",
   "execution_count": 49,
   "id": "4a9d8de9",
   "metadata": {},
   "outputs": [],
   "source": [
    "def k_grnd():\n",
    "    de=0.19158\n",
    "    re=2.29716\n",
    "    beta=0.21098\n",
    "    te=0.1\n",
    "    k_grnd = 2*de*(1/re+2*beta*re)**2\n",
    "    return k_grnd"
   ]
  },
  {
   "cell_type": "code",
   "execution_count": null,
   "id": "e929c5a8",
   "metadata": {},
   "outputs": [],
   "source": [
    "from numpy.polynomial.hermite import hermval\n",
    "\n",
    "def eigen_ho(x,v,m,k):\n",
    "    \"\"\"Calculates the eigenfunction of the harmonic oscillator system.\n",
    "    \n",
    "    Arguments\n",
    "    x: is a space coordinate.\n",
    "    v: is the vibrational quantum number.\n",
    "    m: is the mas of the system.\n",
    "    k: is the force constant of the harmonic potential.\n",
    "    \"\"\"\n",
    "    \n",
    "    hermite_sum=zeros(v+1)\n",
    "    hermite_sum[-1]=1\n",
    "    return 1/(2**v * math.factorial(v))**0.5 * (((m*k)**0.5)/pi)**0.25 * np.e**(-x**2 * ((m*k)**0.5)/2) * hermval((m*k)**0.25 * x,hermite_sum) "
   ]
  },
  {
   "cell_type": "code",
   "execution_count": 59,
   "id": "d510dd53",
   "metadata": {},
   "outputs": [],
   "source": [
    "import numpy as np\n",
    "def transition_dipole_moment(x):\n",
    "    '''Transition dipole moment dependence on the inter-atomic\n",
    "    coordinate x for the O2 electronic transition.\n",
    "    The input x, and the output of the function are in atomic units.'''\n",
    "\n",
    "    #parameters for connecting function\n",
    "    ss=2\n",
    "    es=2.28\n",
    "    plateau=0.266\n",
    "    peak=0.94\n",
    "\n",
    "    #step function of order 7 (n=3)\n",
    "    xs=(x-ss)/(es-ss)\n",
    "    step= -20*xs**7 + 70*xs**6 - 84*xs**5 + 35*xs**4\n",
    "    step= plateau + (peak-plateau)*step\n",
    "\n",
    "    #exponential decay for higher x values\n",
    "    decay=3.85*np.exp(-0.626*x)\n",
    "\n",
    "    return np.where(x<ss,plateau,np.where(x>es,decay,step))"
   ]
  },
  {
   "cell_type": "markdown",
   "id": "3da56f90",
   "metadata": {},
   "source": [
    "# Start the codes"
   ]
  },
  {
   "cell_type": "markdown",
   "id": "3d54cc1b",
   "metadata": {},
   "source": [
    "Set the mass and ground with excited wavefunction."
   ]
  },
  {
   "cell_type": "code",
   "execution_count": 155,
   "id": "874eeba6",
   "metadata": {},
   "outputs": [],
   "source": [
    "m=14583 #reduced mass of O2 in atomic units\n",
    "x_grid=np.linspace(1,6,2000)\n",
    "\n",
    "wf_grd = eigen_ho((x_grid-2.29716),0,m,k_grnd())\n",
    "miu = transition_dipole_moment(x_grid)\n",
    "wf_exci = wf_grd*miu"
   ]
  },
  {
   "cell_type": "markdown",
   "id": "cf8c191d",
   "metadata": {},
   "source": [
    "Test the plot if they're correct."
   ]
  },
  {
   "cell_type": "code",
   "execution_count": 135,
   "id": "5d20ccd0",
   "metadata": {},
   "outputs": [
    {
     "data": {
      "text/plain": [
       "[<matplotlib.lines.Line2D at 0x2075bd31df0>]"
      ]
     },
     "execution_count": 135,
     "metadata": {},
     "output_type": "execute_result"
    }
   ],
   "source": [
    "plt.plot(x_grid,wf_grd)\n",
    "plt.plot(x_grid,wf_exci)\n"
   ]
  },
  {
   "cell_type": "markdown",
   "id": "31b01247",
   "metadata": {},
   "source": [
    "Animate the wavefunction on the excited potential."
   ]
  },
  {
   "cell_type": "code",
   "execution_count": 161,
   "id": "715d505c",
   "metadata": {},
   "outputs": [
    {
     "data": {
      "text/plain": [
       "<matplotlib.animation.FuncAnimation at 0x2078e0b8370>"
      ]
     },
     "execution_count": 161,
     "metadata": {},
     "output_type": "execute_result"
    }
   ],
   "source": [
    "dt=1\n",
    "nsteps=300\n",
    "\n",
    "wf_dynamics_exi=zeros((nsteps+1,len(x_grid)),dtype=complex128)\n",
    "wf_dynamics_exi[0]=wf_exci\n",
    "\n",
    "for step in range(nsteps):\n",
    "    psi_exi=propagator(x_grid,wf_dynamics_exi[step],m,dt,V_excited)\n",
    "    wf_dynamics_exi[step+1]=psi_exi\n",
    "    \n",
    "animate_dynamics(x_grid,wf_dynamics_exi,dt,V_excited(x_grid))"
   ]
  },
  {
   "cell_type": "markdown",
   "id": "e5052f17",
   "metadata": {},
   "source": [
    "## Get the power spectrum"
   ]
  },
  {
   "cell_type": "code",
   "execution_count": 169,
   "id": "e36d10a2",
   "metadata": {},
   "outputs": [
    {
     "data": {
      "text/plain": [
       "[<matplotlib.lines.Line2D at 0x20742508610>]"
      ]
     },
     "execution_count": 169,
     "metadata": {},
     "output_type": "execute_result"
    }
   ],
   "source": [
    "autocor_int = trapz(conj(wf_dynamics_exi[0])*wf_dynamics_exi[:],x_grid)\n",
    "gauss_w=ifftshift(ifft(autocor_int,norm=\"ortho\")) \n",
    "\n",
    "plot(gauss_w)"
   ]
  },
  {
   "cell_type": "markdown",
   "id": "bd345ee8",
   "metadata": {},
   "source": [
    "### Give the power spec."
   ]
  },
  {
   "cell_type": "markdown",
   "id": "a57fa9ff",
   "metadata": {},
   "source": [
    "1. a qualitative description of how the wavefunction changes with time and how this relate to the spectrum. \n",
    "\n",
    "1.1 to consider the main dynamics features, but also the details of the dynamics inside the excited state potential well.\n",
    "\n",
    "- (i.e. autocorrelation function) or explicitly calculated in your analysis. \n",
    "- expectation value of the position changes with times; \n",
    "- or how the spread in positions changes in time."
   ]
  },
  {
   "cell_type": "code",
   "execution_count": 177,
   "id": "9a7fe6a3",
   "metadata": {},
   "outputs": [
    {
     "name": "stderr",
     "output_type": "stream",
     "text": [
      "D:\\anaconda3\\lib\\site-packages\\matplotlib\\animation.py:887: UserWarning: Animation was deleted without rendering anything. This is most likely not intended. To prevent deletion, assign the Animation to a variable, e.g. `anim`, that exists until you have outputted the Animation using `plt.show()` or `anim.save()`.\n",
      "  warnings.warn(\n"
     ]
    },
    {
     "data": {
      "text/plain": [
       "[<matplotlib.lines.Line2D at 0x2076d066880>]"
      ]
     },
     "execution_count": 177,
     "metadata": {},
     "output_type": "execute_result"
    }
   ],
   "source": [
    "# Unperturbed ground state wavefunction on the excited potential curve.\n",
    "dt=1\n",
    "nsteps=300\n",
    "\n",
    "wf_dynamics=zeros((nsteps+1,len(x_grid)),dtype=complex128)\n",
    "wf_dynamics[0]=wf_grd\n",
    "\n",
    "for step in range(nsteps):\n",
    "    psi=propagator(x_grid,wf_dynamics[step],m,dt,V_excited)\n",
    "    wf_dynamics[step+1]=psi\n",
    "    \n",
    "#animate_dynamics(x_grid,wf_dynamics,dt,V_excited(x_grid))\n",
    "\n",
    "\n",
    "autocor_int = trapz(conj(wf_dynamics[0])*wf_dynamics[:],x_grid)\n",
    "power_spec_grd=ifftshift(ifft(autocor_int,norm=\"ortho\")) \n",
    "\n",
    "plot(power_spec_grd)"
   ]
  },
  {
   "cell_type": "markdown",
   "id": "b9a32e51",
   "metadata": {},
   "source": [
    "### Expectation value for the position"
   ]
  },
  {
   "cell_type": "code",
   "execution_count": 197,
   "id": "52a3874f",
   "metadata": {},
   "outputs": [
    {
     "data": {
      "text/plain": [
       "[<matplotlib.lines.Line2D at 0x207943691f0>]"
      ]
     },
     "execution_count": 197,
     "metadata": {},
     "output_type": "execute_result"
    }
   ],
   "source": [
    "time_array = range(0,nsteps+1,dt)\n",
    "expect_x = trapz(conj(wf_dynamics_exi[0])*x_grid*wf_dynamics_exi[:],x_grid)\n",
    "\n",
    "xlim([0,10])\n",
    "plot(time_array,expect_x)"
   ]
  },
  {
   "cell_type": "markdown",
   "id": "acc71b75",
   "metadata": {},
   "source": [
    "### Spread in position"
   ]
  },
  {
   "cell_type": "code",
   "execution_count": 201,
   "id": "3782e406",
   "metadata": {},
   "outputs": [
    {
     "data": {
      "text/plain": [
       "[<matplotlib.lines.Line2D at 0x20794ae7d30>]"
      ]
     },
     "execution_count": 201,
     "metadata": {},
     "output_type": "execute_result"
    }
   ],
   "source": [
    "spread_x = ()\n",
    "\n",
    "\n",
    "plot(wf_dynamics_exi[4])"
   ]
  },
  {
   "cell_type": "code",
   "execution_count": null,
   "id": "4967089b",
   "metadata": {},
   "outputs": [],
   "source": []
  },
  {
   "cell_type": "code",
   "execution_count": null,
   "id": "262a5097",
   "metadata": {},
   "outputs": [],
   "source": []
  },
  {
   "cell_type": "code",
   "execution_count": null,
   "id": "dd2b0e35",
   "metadata": {},
   "outputs": [],
   "source": []
  },
  {
   "cell_type": "code",
   "execution_count": null,
   "id": "d7ab6287",
   "metadata": {},
   "outputs": [],
   "source": []
  },
  {
   "cell_type": "code",
   "execution_count": 168,
   "id": "026205d0",
   "metadata": {},
   "outputs": [],
   "source": [
    "# Obtain the inverse Fourier transform of gauss_t. Note that the values are shifted by fftshit()\n",
    "gauss_w=ifftshift(ifft(autocor_int,norm=\"ortho\")) \n",
    "spec = (2*pi)**(3/2)/(3*137.037)*gauss_w\n",
    "\n",
    "\n",
    "# Obtain the grid of frequency values. The d keyword specifies the spacing between time points.\n",
    "frequency=2 * pi * fftshift(fftfreq(nsteps,d=dt))\n",
    "\n",
    "spec_frq = spec[1:]*frequency\n",
    "\n",
    "\n",
    "plot(frequency,spec_frq) # Plot the transformed function\n",
    "show()\n",
    "\n"
   ]
  },
  {
   "cell_type": "code",
   "execution_count": 44,
   "id": "03f9c748",
   "metadata": {},
   "outputs": [
    {
     "data": {
      "text/plain": [
       "(0.0, 3.0)"
      ]
     },
     "execution_count": 44,
     "metadata": {},
     "output_type": "execute_result"
    }
   ],
   "source": [
    "x=np.linspace(1,6,500)\n",
    "\n",
    "plt.plot(x,V_ground(x))\n",
    "plt.plot(x,V_excited(x))\n",
    "plt.plot(x,)\n",
    "\n",
    "plt.ylim([0,3])"
   ]
  },
  {
   "cell_type": "code",
   "execution_count": 45,
   "id": "719c91b2",
   "metadata": {},
   "outputs": [
    {
     "data": {
      "text/plain": [
       "(0.0, 3.0)"
      ]
     },
     "execution_count": 45,
     "metadata": {},
     "output_type": "execute_result"
    }
   ],
   "source": [
    "plt.plot(x,)\n",
    "\n",
    "\n",
    "plt.ylim([0,3])"
   ]
  },
  {
   "cell_type": "code",
   "execution_count": 5,
   "id": "87730ff9",
   "metadata": {},
   "outputs": [],
   "source": []
  },
  {
   "cell_type": "code",
   "execution_count": null,
   "id": "a0bec29c",
   "metadata": {},
   "outputs": [],
   "source": []
  },
  {
   "cell_type": "code",
   "execution_count": 6,
   "id": "ad7955a2",
   "metadata": {},
   "outputs": [],
   "source": []
  },
  {
   "cell_type": "code",
   "execution_count": 100,
   "id": "721298e7",
   "metadata": {},
   "outputs": [
    {
     "name": "stderr",
     "output_type": "stream",
     "text": [
      "D:\\anaconda3\\lib\\site-packages\\matplotlib\\cbook\\__init__.py:1298: ComplexWarning: Casting complex values to real discards the imaginary part\n",
      "  return np.asarray(x, float)\n"
     ]
    },
    {
     "data": {
      "text/plain": [
       "[<matplotlib.lines.Line2D at 0x207423ed400>]"
      ]
     },
     "execution_count": 100,
     "metadata": {},
     "output_type": "execute_result"
    }
   ],
   "source": [
    "m=14583 #reduced mass of O2 in atomic units\n",
    "dt=10 #time step in atomic units (this is a relatively big step)\n",
    "\n",
    "x_grid=np.linspace(1,6,500)\n",
    "psi0 = eigen_ho((x_grid-2.29716),0,m,k_grnd())\n",
    "new_wf=propagator((x_grid-2.29716),psi0,m,dt,V_ground)\n",
    "\n",
    "\n",
    "plt.plot(x_grid,psi0)\n",
    "plt.plot(x_grid,new_wf)\n",
    "plt.plot(x_grid,V_ground(x_grid))"
   ]
  },
  {
   "cell_type": "code",
   "execution_count": 110,
   "id": "9581a81e",
   "metadata": {},
   "outputs": [
    {
     "data": {
      "text/plain": [
       "<matplotlib.animation.FuncAnimation at 0x2073d417d00>"
      ]
     },
     "execution_count": 110,
     "metadata": {},
     "output_type": "execute_result"
    }
   ],
   "source": [
    "dt=1\n",
    "nsteps=500\n",
    "\n",
    "x_grid=np.linspace(1,6,500)\n",
    "psi0=eigen_ho((x_grid-2.29716),5,m,k_grnd())\n",
    "\n",
    "wf_dynamics=zeros((nsteps+1,len(x_grid)),dtype=complex128)\n",
    "wf_dynamics[0]=psi0\n",
    "\n",
    "for step in range(nsteps):\n",
    "    psi=propagator((x_grid-2.29716),wf_dynamics[step],m,dt,V_ground)\n",
    "    wf_dynamics[step+1]=psi\n",
    "\n",
    "animate_dynamics(x_grid,wf_dynamics,dt,V_ground(x_grid))"
   ]
  },
  {
   "cell_type": "code",
   "execution_count": 93,
   "id": "a8f4d2ae",
   "metadata": {},
   "outputs": [
    {
     "data": {
      "text/plain": [
       "(-2.3697074988954016e-54+0j)"
      ]
     },
     "execution_count": 93,
     "metadata": {},
     "output_type": "execute_result"
    }
   ],
   "source": [
    "trapz(wf_dynamics[0],wf_dynamics[0])"
   ]
  },
  {
   "cell_type": "code",
   "execution_count": null,
   "id": "a23fe026",
   "metadata": {},
   "outputs": [],
   "source": [
    "conj(wf_dynamics[0])*wf_dynamics"
   ]
  },
  {
   "cell_type": "code",
   "execution_count": 7,
   "id": "7bc1bdf7",
   "metadata": {},
   "outputs": [],
   "source": []
  },
  {
   "cell_type": "code",
   "execution_count": 33,
   "id": "379d7055",
   "metadata": {
    "scrolled": true
   },
   "outputs": [
    {
     "data": {
      "text/plain": [
       "<matplotlib.animation.FuncAnimation at 0x169bee66880>"
      ]
     },
     "execution_count": 33,
     "metadata": {},
     "output_type": "execute_result"
    }
   ],
   "source": [
    "m=14583 #reduced mass of O2 in atomic units\n",
    "dt=1\n",
    "nsteps=500\n",
    "\n",
    "x_grid=np.linspace(1,6,500)\n",
    "\n",
    "wf_dynamics=zeros((nsteps+1,len(x_grid)),dtype=complex128)\n",
    "wf_dynamics[0]=psi0\n",
    "\n",
    "for step in range(nsteps):\n",
    "    psi=propagator((x_grid-2.29716),wf_dynamics[step],m,dt,V_ground)\n",
    "    wf_dynamics[step+1]=psi\n",
    "\n",
    "    \n",
    "animate_dynamics(x_grid,wf_dynamics,dt,V_ground(x_grid))\n"
   ]
  },
  {
   "cell_type": "code",
   "execution_count": 1,
   "id": "e3025a51",
   "metadata": {
    "scrolled": true
   },
   "outputs": [
    {
     "ename": "NameError",
     "evalue": "name 'np' is not defined",
     "output_type": "error",
     "traceback": [
      "\u001b[1;31m---------------------------------------------------------------------------\u001b[0m",
      "\u001b[1;31mNameError\u001b[0m                                 Traceback (most recent call last)",
      "\u001b[1;32m~\\AppData\\Local\\Temp\\ipykernel_21420\\1018135366.py\u001b[0m in \u001b[0;36m<module>\u001b[1;34m\u001b[0m\n\u001b[0;32m      3\u001b[0m \u001b[0mnsteps\u001b[0m\u001b[1;33m=\u001b[0m\u001b[1;36m50000\u001b[0m\u001b[1;33m\u001b[0m\u001b[1;33m\u001b[0m\u001b[0m\n\u001b[0;32m      4\u001b[0m \u001b[1;33m\u001b[0m\u001b[0m\n\u001b[1;32m----> 5\u001b[1;33m \u001b[0mx_grid\u001b[0m\u001b[1;33m=\u001b[0m\u001b[0mnp\u001b[0m\u001b[1;33m.\u001b[0m\u001b[0mlinspace\u001b[0m\u001b[1;33m(\u001b[0m\u001b[1;36m1\u001b[0m\u001b[1;33m,\u001b[0m\u001b[1;36m6\u001b[0m\u001b[1;33m,\u001b[0m\u001b[1;36m500\u001b[0m\u001b[1;33m)\u001b[0m\u001b[1;33m\u001b[0m\u001b[1;33m\u001b[0m\u001b[0m\n\u001b[0m\u001b[0;32m      6\u001b[0m \u001b[1;33m\u001b[0m\u001b[0m\n\u001b[0;32m      7\u001b[0m \u001b[0mpsi0\u001b[0m\u001b[1;33m=\u001b[0m\u001b[0meigen_ho\u001b[0m\u001b[1;33m(\u001b[0m\u001b[1;33m(\u001b[0m\u001b[0mx_grid\u001b[0m\u001b[1;33m-\u001b[0m\u001b[1;36m2.29716\u001b[0m\u001b[1;33m)\u001b[0m\u001b[1;33m,\u001b[0m\u001b[1;36m0\u001b[0m\u001b[1;33m,\u001b[0m\u001b[0mm\u001b[0m\u001b[1;33m,\u001b[0m\u001b[0mk_grnd\u001b[0m\u001b[1;33m(\u001b[0m\u001b[1;33m)\u001b[0m\u001b[1;33m)\u001b[0m\u001b[1;33m\u001b[0m\u001b[1;33m\u001b[0m\u001b[0m\n",
      "\u001b[1;31mNameError\u001b[0m: name 'np' is not defined"
     ]
    }
   ],
   "source": [
    "m=14583 #reduced mass of O2 in atomic units\n",
    "dt=0.00001\n",
    "nsteps=50000\n",
    "\n",
    "x_grid=np.linspace(1,6,500)\n",
    "\n",
    "psi0=eigen_ho((x_grid-2.29716),0,m,k_grnd())\n",
    "wf_dynamics=zeros((nsteps+1,len(x_grid)),dtype=complex128)\n",
    "wf_dynamics[0]=psi0\n",
    "\n",
    "for step in range(nsteps):\n",
    "    psi=propagator((x_grid-2.29716),wf_dynamics[step],m,dt,V_ground)\n",
    "    wf_dynamics[step+1]=psi\n",
    "\n",
    "    \n",
    "\n",
    "psi0_exi=eigen_ho((x_grid-3.03150),0,m,k_grnd())\n",
    "wf_dynamics_exi=zeros((nsteps+1,len(x_grid)),dtype=complex128)\n",
    "wf_dynamics_exi[0]=psi0_exi\n",
    "\n",
    "for step in range(nsteps):\n",
    "    psi_exi=propagator((x_grid-2.29716),wf_dynamics_exi[step],m,dt,V_excited)\n",
    "    wf_dynamics_exi[step+1]=psi_exi    \n",
    "    \n",
    "#animate_dynamics(x_grid,wf_dynamics,dt,V_ground(x_grid))\n",
    "\n",
    "\n",
    "\n",
    "autocor_int = trapz(conj(wf_dynamics[0])*wf_dynamics_exi[1:],x_grid)\n",
    "\n",
    "\n",
    "\n",
    "# Obtain the inverse Fourier transform of gauss_t. Note that the values are shifted by fftshit()\n",
    "gauss_w=ifftshift(ifft(autocor_int,norm=\"ortho\")) \n",
    "spec = (2*pi)**(3/2)/(3*137.037)*gauss_w * TDM(2.29716)**2\n",
    "\n",
    "\n",
    "\n",
    "# Obtain the grid of frequency values. The d keyword specifies the spacing between time points.\n",
    "frequency=2 * pi * fftshift(fftfreq(nsteps,d=dt))\n",
    "\n",
    "spec_frq = spec*frequency\n",
    "\n",
    "plot(frequency,abs(spec_frq)) # Plot the transformed function\n",
    "xlim([0,1500])\n",
    "show()"
   ]
  },
  {
   "cell_type": "code",
   "execution_count": 8,
   "id": "4230e28b",
   "metadata": {},
   "outputs": [
    {
     "data": {
      "text/plain": [
       "<matplotlib.animation.FuncAnimation at 0x206fea9eb20>"
      ]
     },
     "execution_count": 8,
     "metadata": {},
     "output_type": "execute_result"
    }
   ],
   "source": [
    "def V_harm(x,x0,k):\n",
    "    \"Harmonic oscillator\"\n",
    "    return k/2*(x-x0)**2\n",
    "\n",
    "m=14583 #reduced mass of O2 in atomic units\n",
    "dt=0.1\n",
    "nsteps=5000\n",
    "\n",
    "x_grid=np.linspace(1,5.5,1000)\n",
    "\n",
    "\n",
    "psi0_exi=eigen_ho((x_grid-3.03150),0,m,k_grnd())\n",
    "wf_dynamics_exi=zeros((nsteps+1,len(x_grid)),dtype=complex128)\n",
    "wf_dynamics_exi[0]=psi0_exi\n",
    "\n",
    "for step in range(nsteps):\n",
    "    psi_exi=propagator((x_grid-3.03150),wf_dynamics_exi[step],m,dt,V_harm,3.03150,k_grnd())\n",
    "    wf_dynamics_exi[step+1]=psi_exi    \n",
    "    \n",
    "animate_dynamics(x_grid,wf_dynamics_exi,dt,V_harm(x_grid,3.03150,k_grnd()))"
   ]
  },
  {
   "cell_type": "code",
   "execution_count": 20,
   "id": "094b611e",
   "metadata": {},
   "outputs": [
    {
     "data": {
      "text/plain": [
       "<matplotlib.animation.FuncAnimation at 0x20701072580>"
      ]
     },
     "execution_count": 20,
     "metadata": {},
     "output_type": "execute_result"
    }
   ],
   "source": [
    "# Final version\n",
    "\n",
    "\n",
    "m=14583 #reduced mass of O2 in atomic units\n",
    "dt=0.01\n",
    "nsteps=500\n",
    "\n",
    "x_grid=np.linspace(1,5.5,1200)\n",
    "\n",
    "psi0=eigen_ho((x_grid-2.29716),0,m,k_grnd())\n",
    "psi0_exi=TDM(psi0)\n",
    "\n",
    "#psi0_exi=eigen_ho((x_grid-3.03150),0,m,k_grnd())\n",
    "\n",
    "wf_dynamics_exi=zeros((nsteps+1,len(x_grid)),dtype=complex128)\n",
    "wf_dynamics_exi[0]=psi0_exi\n",
    "\n",
    "for step in range(nsteps):\n",
    "    psi_exi=propagator((x_grid-2.29716),wf_dynamics_exi[step],m,dt,V_excited)\n",
    "    wf_dynamics_exi[step+1]=psi_exi    \n",
    "    \n",
    "animate_dynamics(x_grid,wf_dynamics_exi,dt,V_ground(x_grid))"
   ]
  },
  {
   "cell_type": "code",
   "execution_count": 16,
   "id": "a09e49f4",
   "metadata": {},
   "outputs": [],
   "source": [
    "# Final version\n",
    "m=14583 #reduced mass of O2 in atomic units\n",
    "dt=0.001\n",
    "nsteps=50000\n",
    "\n",
    "x_grid=np.linspace(1,5.5,1200)\n",
    "\n",
    "psi0=eigen_ho((x_grid-2.29716),0,m,k_grnd())\n",
    "psi0_exi=TDM(psi0)\n",
    "\n",
    "#psi0_exi=eigen_ho((x_grid-3.03150),0,m,k_grnd())\n",
    "\n",
    "\n",
    "autocor_int = trapz(conj(psi0)*wf_dynamics_exi[1:],x_grid)\n",
    "\n",
    "\n",
    "# Obtain the inverse Fourier transform of gauss_t. Note that the values are shifted by fftshit()\n",
    "gauss_w=ifftshift(ifft(autocor_int,norm=\"ortho\")) \n",
    "spec = (2*pi)**(3/2)/(3*137.037)*gauss_w * TDM(2.29716)**2\n",
    "\n",
    "\n",
    "# Obtain the grid of frequency values. The d keyword specifies the spacing between time points.\n",
    "frequency=2 * pi * fftshift(fftfreq(nsteps,d=dt))\n",
    "\n",
    "spec_frq = spec*frequency\n",
    "\n",
    "\n",
    "plot(frequency,abs(spec_frq)) # Plot the transformed function\n",
    "xlim([0,100])\n",
    "show()"
   ]
  },
  {
   "cell_type": "code",
   "execution_count": 67,
   "id": "9d53f37c",
   "metadata": {},
   "outputs": [
    {
     "data": {
      "text/plain": [
       "[<matplotlib.lines.Line2D at 0x169c75aa100>]"
      ]
     },
     "execution_count": 67,
     "metadata": {},
     "output_type": "execute_result"
    }
   ],
   "source": [
    "plot(abs(autocor_int))\n"
   ]
  },
  {
   "cell_type": "code",
   "execution_count": 62,
   "id": "cb5dacd0",
   "metadata": {},
   "outputs": [
    {
     "data": {
      "text/plain": [
       "(0.0, 400.0)"
      ]
     },
     "execution_count": 62,
     "metadata": {},
     "output_type": "execute_result"
    }
   ],
   "source": [
    "plot(frequency,abs(spec_frq)) # abs spectrum\n",
    "plot(frequency,abs(gauss_w)) #power spectrum\n",
    "plot(frequency,abs(gauss_w * TDM(2.29716)**2)) \n",
    "\n",
    "\n",
    "\n",
    "xlim([0,400])"
   ]
  },
  {
   "cell_type": "code",
   "execution_count": null,
   "id": "6fbe054d",
   "metadata": {},
   "outputs": [],
   "source": [
    "dt=0.001\n",
    "nsteps=50000\n",
    "\n",
    "x_grid=np.linspace(1,5.5,500)"
   ]
  },
  {
   "cell_type": "code",
   "execution_count": 74,
   "id": "2eb1f1c2",
   "metadata": {},
   "outputs": [],
   "source": []
  },
  {
   "cell_type": "code",
   "execution_count": null,
   "id": "286908f8",
   "metadata": {},
   "outputs": [],
   "source": []
  }
 ],
 "metadata": {
  "kernelspec": {
   "display_name": "Python 3 (ipykernel)",
   "language": "python",
   "name": "python3"
  },
  "language_info": {
   "codemirror_mode": {
    "name": "ipython",
    "version": 3
   },
   "file_extension": ".py",
   "mimetype": "text/x-python",
   "name": "python",
   "nbconvert_exporter": "python",
   "pygments_lexer": "ipython3",
   "version": "3.9.13"
  },
  "toc": {
   "base_numbering": 1,
   "nav_menu": {},
   "number_sections": true,
   "sideBar": true,
   "skip_h1_title": false,
   "title_cell": "Table of Contents",
   "title_sidebar": "Contents",
   "toc_cell": false,
   "toc_position": {},
   "toc_section_display": true,
   "toc_window_display": false
  }
 },
 "nbformat": 4,
 "nbformat_minor": 5
}
