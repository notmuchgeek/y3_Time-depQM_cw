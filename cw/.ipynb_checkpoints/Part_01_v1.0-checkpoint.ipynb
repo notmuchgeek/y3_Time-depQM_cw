{
 "cells": [
  {
   "cell_type": "code",
   "execution_count": 87,
   "id": "4929f5a8",
   "metadata": {},
   "outputs": [
    {
     "name": "stdout",
     "output_type": "stream",
     "text": [
      "Populating the interactive namespace from numpy and matplotlib\n"
     ]
    },
    {
     "name": "stderr",
     "output_type": "stream",
     "text": [
      "D:\\anaconda3\\lib\\site-packages\\IPython\\core\\magics\\pylab.py:159: UserWarning: pylab import has clobbered these variables: ['step']\n",
      "`%matplotlib` prevents importing * from pylab and numpy\n",
      "  warn(\"pylab import has clobbered these variables: %s\"  % clobbered +\n"
     ]
    }
   ],
   "source": [
    "%pylab qt"
   ]
  },
  {
   "cell_type": "code",
   "execution_count": null,
   "id": "a919f4e1",
   "metadata": {},
   "outputs": [],
   "source": [
    "def gwp(x,xc,pc,alpha,gamma):\n",
    "    \"\"\"Gaussian wavepacket in one dimension.\"\"\"\n",
    "    \n",
    "    return (2/pi*real(alpha))**0.25 * exp(-alpha*(x-xc)**2 + 1j*pc*(x-xc) + 1j*gamma)"
   ]
  },
  {
   "cell_type": "code",
   "execution_count": null,
   "id": "6b43d3f7",
   "metadata": {},
   "outputs": [],
   "source": []
  },
  {
   "cell_type": "code",
   "execution_count": 3,
   "id": "531a3b0c",
   "metadata": {},
   "outputs": [],
   "source": [
    "from qdyn import propagator, animate_dynamics\n"
   ]
  },
  {
   "cell_type": "code",
   "execution_count": 4,
   "id": "784b1056",
   "metadata": {},
   "outputs": [],
   "source": [
    "def V_ground(x):\n",
    "    de=0.19158\n",
    "    re=2.29716\n",
    "    beta=0.21098\n",
    "    te=0.1\n",
    "    return de*(1-re/x*np.exp(-beta*(x**2-re**2)))**2+te\n",
    "\n",
    "\n",
    "def V_excited(x):\n",
    "    de=0.03342\n",
    "    re=3.03150\n",
    "    beta=0.19459\n",
    "    te=0.327\n",
    "    return de*(1-re/x*np.exp(-beta*(x**2-re**2)))**2+te"
   ]
  },
  {
   "cell_type": "code",
   "execution_count": 88,
   "id": "e90db6c2",
   "metadata": {},
   "outputs": [
    {
     "name": "stderr",
     "output_type": "stream",
     "text": [
      "C:\\Users\\AlbertCielstian\\AppData\\Local\\Temp\\ipykernel_7944\\1647881167.py:6: RuntimeWarning: divide by zero encountered in true_divide\n",
      "  return de*(1-re/x*np.exp(-beta*(x**2-re**2)))**2+te\n"
     ]
    },
    {
     "data": {
      "text/plain": [
       "(0.0, 0.6)"
      ]
     },
     "execution_count": 88,
     "metadata": {},
     "output_type": "execute_result"
    }
   ],
   "source": [
    "x=np.linspace(0,8,200)\n",
    "plt.plot(x,V_ground(x))\n",
    "plt.ylim([0,0.6])"
   ]
  },
  {
   "cell_type": "code",
   "execution_count": 5,
   "id": "299d0f3a",
   "metadata": {},
   "outputs": [],
   "source": [
    "def k_grnd():\n",
    "    de=0.19158\n",
    "    re=2.29716\n",
    "    beta=0.21098\n",
    "    te=0.1\n",
    "    k_grnd = 2*de*(1/re+2*beta*re)**2\n",
    "    return k_grnd"
   ]
  },
  {
   "cell_type": "code",
   "execution_count": 75,
   "id": "fee7d6e0",
   "metadata": {},
   "outputs": [],
   "source": [
    "from numpy.polynomial.hermite import hermval\n",
    "\n",
    "def eigen_ho(x,v,m,k):\n",
    "    \"\"\"Calculates the eigenfunction of the harmonic oscillator system.\n",
    "    \n",
    "    Arguments\n",
    "    x: is a space coordinate.\n",
    "    v: is the vibrational quantum number.\n",
    "    m: is the mas of the system.\n",
    "    k: is the force constant of the harmonic potential.\n",
    "    \"\"\"\n",
    "    \n",
    "    hermite_sum=zeros(v+1)\n",
    "    hermite_sum[-1]=1\n",
    "    return 1/(2**v * math.factorial(v))**0.5 * (((m*k)**0.5)/pi)**0.25 * np.e**(-x**2 * ((m*k)**0.5)/2) * hermval((m*k)**0.25 * x,hermite_sum) "
   ]
  },
  {
   "cell_type": "code",
   "execution_count": 91,
   "id": "eb520e45",
   "metadata": {},
   "outputs": [
    {
     "data": {
      "text/plain": [
       "[<matplotlib.lines.Line2D at 0x1c1b3664640>]"
      ]
     },
     "execution_count": 91,
     "metadata": {},
     "output_type": "execute_result"
    }
   ],
   "source": [
    "m=14583 #reduced mass of O2 in atomic units\n",
    "dt=10 #time step in atomic units (this is a relatively big step)\n",
    "\n",
    "x_grid=np.linspace(1,6,500)\n",
    "psi0 = eigen_ho((x_grid-2.29716),0,m,k_grnd())\n",
    "new_wf=propagator((x_grid-2.29716),psi1,m,dt,V_ground)\n",
    "\n",
    "\n",
    "plt.plot(x_grid,psi0)\n",
    "plt.plot(x_grid,V_ground(x_grid))"
   ]
  },
  {
   "cell_type": "code",
   "execution_count": 103,
   "id": "c8664aaa",
   "metadata": {},
   "outputs": [
    {
     "data": {
      "text/plain": [
       "<matplotlib.animation.FuncAnimation at 0x1c1b3e63e50>"
      ]
     },
     "execution_count": 103,
     "metadata": {},
     "output_type": "execute_result"
    }
   ],
   "source": [
    "dt=1\n",
    "nsteps=5\n",
    "\n",
    "x_grid=np.linspace(1,6,500)\n",
    "psi0=eigen_ho((x_grid-2.29716),5,m,k_grnd())\n",
    "\n",
    "wf_dynamics=zeros((nsteps+1,len(x_grid)),dtype=complex128)\n",
    "wf_dynamics[0]=psi0\n",
    "\n",
    "for step in range(nsteps):\n",
    "    psi=propagator((x_grid-2.29716),wf_dynamics[step],m,dt,V_ground)\n",
    "    wf_dynamics[step+1]=psi\n",
    "\n",
    "animate_dynamics(x_grid,wf_dynamics,dt,V_ground(x_grid))"
   ]
  },
  {
   "cell_type": "code",
   "execution_count": 93,
   "id": "c5b19668",
   "metadata": {},
   "outputs": [
    {
     "data": {
      "text/plain": [
       "(-2.3697074988954016e-54+0j)"
      ]
     },
     "execution_count": 93,
     "metadata": {},
     "output_type": "execute_result"
    }
   ],
   "source": [
    "trapz(wf_dynamics[0],wf_dynamics[0])"
   ]
  },
  {
   "cell_type": "code",
   "execution_count": null,
   "id": "3a621b62",
   "metadata": {},
   "outputs": [],
   "source": [
    "conj(wf_dynamics[0])*wf_dynamics"
   ]
  },
  {
   "cell_type": "code",
   "execution_count": 98,
   "id": "791763d4",
   "metadata": {},
   "outputs": [],
   "source": [
    "import numpy as np\n",
    "\n",
    "def TDM(x):\n",
    "    '''Transition dipole moment dependence on the inter-atomic\n",
    "    coordinate x for the O2 electronic transition.\n",
    "    The input x, and the output of the function are in atomic units.'''\n",
    "\n",
    "    #parameters for connecting function\n",
    "    ss=2\n",
    "    es=2.28\n",
    "    plateau=0.266\n",
    "    peak=0.94\n",
    "\n",
    "    #step function of order 7 (n=3)\n",
    "    xs=(x-ss)/(es-ss)\n",
    "    step= -20*xs**7 + 70*xs**6 - 84*xs**5 + 35*xs**4\n",
    "    step= plateau + (peak-plateau)*step\n",
    "\n",
    "    #exponential decay for higher x values\n",
    "    decay=3.85*np.exp(-0.626*x)\n",
    "\n",
    "    return np.where(x<ss,plateau,np.where(x>es,decay,step))"
   ]
  },
  {
   "cell_type": "code",
   "execution_count": 116,
   "id": "27641a85",
   "metadata": {},
   "outputs": [
    {
     "data": {
      "text/plain": [
       "<matplotlib.animation.FuncAnimation at 0x1c1c02464c0>"
      ]
     },
     "execution_count": 116,
     "metadata": {},
     "output_type": "execute_result"
    }
   ],
   "source": [
    "wf_dynamics=zeros((nsteps+1,len(x_grid)),dtype=complex128)\n",
    "wf_dynamics[0]=psi0\n",
    "\n",
    "for step in range(nsteps):\n",
    "    psi=propagator((x_grid-2.29716),wf_dynamics[step],m,dt,V_ground)\n",
    "    wf_dynamics[step+1]=psi\n",
    "\n",
    "    \n",
    "\n",
    "psi0_exi=eigen_ho((x_grid-3.03150),5,m,k_grnd())\n",
    "wf_dynamics_exi=zeros((nsteps+1,len(x_grid)),dtype=complex128)\n",
    "wf_dynamics_exi[0]=psi0_exi\n",
    "\n",
    "for step in range(nsteps):\n",
    "    psi_exi=propagator((x_grid-2.29716),wf_dynamics_exi[step],m,dt,V_excited)\n",
    "    wf_dynamics_exi[step+1]=psi_exi    \n",
    "    \n",
    "animate_dynamics(x_grid,wf_dynamics,dt,V_ground(x_grid))\n",
    "animate_dynamics(x_grid,wf_dynamics_exi,dt,V_excited(x_grid))"
   ]
  },
  {
   "cell_type": "code",
   "execution_count": 122,
   "id": "f3eeda30",
   "metadata": {},
   "outputs": [
    {
     "ename": "ValueError",
     "evalue": "operands could not be broadcast together with shapes (501,) (500,) ",
     "output_type": "error",
     "traceback": [
      "\u001b[1;31m---------------------------------------------------------------------------\u001b[0m",
      "\u001b[1;31mValueError\u001b[0m                                Traceback (most recent call last)",
      "\u001b[1;32m~\\AppData\\Local\\Temp\\ipykernel_7944\\3262504379.py\u001b[0m in \u001b[0;36m<module>\u001b[1;34m\u001b[0m\n\u001b[0;32m     42\u001b[0m \u001b[0mfrequency\u001b[0m\u001b[1;33m=\u001b[0m\u001b[1;36m2\u001b[0m \u001b[1;33m*\u001b[0m \u001b[0mpi\u001b[0m \u001b[1;33m*\u001b[0m \u001b[0mfftshift\u001b[0m\u001b[1;33m(\u001b[0m\u001b[0mfftfreq\u001b[0m\u001b[1;33m(\u001b[0m\u001b[0mnsteps\u001b[0m\u001b[1;33m,\u001b[0m\u001b[0md\u001b[0m\u001b[1;33m=\u001b[0m\u001b[0mdt\u001b[0m\u001b[1;33m)\u001b[0m\u001b[1;33m)\u001b[0m\u001b[1;33m\u001b[0m\u001b[1;33m\u001b[0m\u001b[0m\n\u001b[0;32m     43\u001b[0m \u001b[1;33m\u001b[0m\u001b[0m\n\u001b[1;32m---> 44\u001b[1;33m \u001b[0mspec_frq\u001b[0m \u001b[1;33m=\u001b[0m \u001b[0mspec\u001b[0m\u001b[1;33m*\u001b[0m\u001b[0mfrequency\u001b[0m\u001b[1;33m\u001b[0m\u001b[1;33m\u001b[0m\u001b[0m\n\u001b[0m\u001b[0;32m     45\u001b[0m \u001b[1;33m\u001b[0m\u001b[0m\n\u001b[0;32m     46\u001b[0m \u001b[0mplot\u001b[0m\u001b[1;33m(\u001b[0m\u001b[0mfrequency\u001b[0m\u001b[1;33m,\u001b[0m\u001b[0mabs\u001b[0m\u001b[1;33m(\u001b[0m\u001b[0mspec_frq\u001b[0m\u001b[1;33m)\u001b[0m\u001b[1;33m)\u001b[0m \u001b[1;31m# Plot the transformed function\u001b[0m\u001b[1;33m\u001b[0m\u001b[1;33m\u001b[0m\u001b[0m\n",
      "\u001b[1;31mValueError\u001b[0m: operands could not be broadcast together with shapes (501,) (500,) "
     ]
    }
   ],
   "source": [
    "m=14583 #reduced mass of O2 in atomic units\n",
    "dt=1\n",
    "nsteps=500\n",
    "\n",
    "x_grid=np.linspace(1,6,500)\n",
    "\n",
    "psi0=eigen_ho((x_grid-2.29716),0,m,k_grnd())\n",
    "wf_dynamics=zeros((nsteps+1,len(x_grid)),dtype=complex128)\n",
    "wf_dynamics[0]=psi0\n",
    "\n",
    "for step in range(nsteps):\n",
    "    psi=propagator((x_grid-2.29716),wf_dynamics[step],m,dt,V_ground)\n",
    "    wf_dynamics[step+1]=psi\n",
    "\n",
    "    \n",
    "\n",
    "psi0_exi=eigen_ho((x_grid-3.03150),0,m,k_grnd())\n",
    "wf_dynamics_exi=zeros((nsteps+1,len(x_grid)),dtype=complex128)\n",
    "wf_dynamics_exi[0]=psi0_exi\n",
    "\n",
    "for step in range(nsteps):\n",
    "    psi_exi=propagator((x_grid-2.29716),wf_dynamics_exi[step],m,dt,V_excited)\n",
    "    wf_dynamics_exi[step+1]=psi_exi    \n",
    "    \n",
    "#animate_dynamics(x_grid,wf_dynamics,dt,V_ground(x_grid))\n",
    "\n",
    "\n",
    "\n",
    "\n",
    "\n",
    "autocor_int = trapz(conj(wf_dynamics[0])*wf_dynamics_exi[1:],x_grid)\n",
    "\n",
    "\n",
    "\n",
    "# Obtain the inverse Fourier transform of gauss_t. Note that the values are shifted by fftshit()\n",
    "gauss_w=ifftshift(ifft(autocor_int,norm=\"ortho\")) \n",
    "spec = (2*pi)**(3/2)/(3*137.037)*gauss_w * TDM(2.29716)**2\n",
    "\n",
    "\n",
    "\n",
    "# Obtain the grid of frequency values. The d keyword specifies the spacing between time points.\n",
    "frequency=2 * pi * fftshift(fftfreq(nsteps,d=dt))\n",
    "\n",
    "spec_frq = spec*frequency\n",
    "\n",
    "plot(frequency,abs(spec_frq)) # Plot the transformed function\n",
    "show()"
   ]
  },
  {
   "cell_type": "code",
   "execution_count": 123,
   "id": "4fcf2339",
   "metadata": {},
   "outputs": [
    {
     "data": {
      "text/plain": [
       "array([[-4.77691836e-046+4.63085609e-046j,\n",
       "         1.76114648e-045-1.92770176e-045j,\n",
       "        -6.36362434e-045+7.89584920e-045j, ...,\n",
       "         2.27499048e-317+8.47810769e-317j,\n",
       "        -4.95458911e-319-1.75821165e-318j,\n",
       "         1.06569960e-320+3.60766735e-320j],\n",
       "       [-8.91448277e-044+4.35553877e-044j,\n",
       "         3.38765043e-043-1.93821917e-043j,\n",
       "        -1.26053824e-042+8.33936374e-043j, ...,\n",
       "        -7.04661537e-316+1.30480899e-314j,\n",
       "         1.05204708e-317-2.71057501e-316j,\n",
       "        -1.23165625e-319+5.59904834e-318j],\n",
       "       [-7.13368201e-043-2.11998480e-043j,\n",
       "         3.00435243e-042+3.55142904e-043j,\n",
       "        -1.12247606e-041-1.16026799e-043j, ...,\n",
       "        -6.74936161e-314+5.73003625e-314j,\n",
       "         1.27390626e-315-1.20663570e-315j,\n",
       "        -2.35945792e-317+2.94380962e-317j],\n",
       "       ...,\n",
       "       [ 2.06239936e-042+2.36846847e-041j,\n",
       "         2.05125332e-041-7.44272768e-041j,\n",
       "         6.46464424e-041+1.75600935e-040j, ...,\n",
       "         1.82835440e-312+7.51262681e-313j,\n",
       "        -6.36173628e-315-2.19611071e-314j,\n",
       "         6.09557819e-316-4.69549970e-316j],\n",
       "       [-1.90003354e-041+5.08984752e-042j,\n",
       "         3.27330865e-041-1.03571822e-041j,\n",
       "         3.73423668e-041-1.65024209e-040j, ...,\n",
       "        -1.62616014e-312-8.91388609e-313j,\n",
       "         4.90248403e-314-1.58910464e-315j,\n",
       "        -2.57054688e-316-8.63442971e-316j],\n",
       "       [-1.80441567e-041+6.53911089e-042j,\n",
       "         8.35688472e-041-3.68611071e-041j,\n",
       "        -2.10875562e-040-8.77168502e-041j, ...,\n",
       "         2.86216424e-312+6.68037823e-313j,\n",
       "        -4.33617809e-314-4.45708583e-314j,\n",
       "         6.77580801e-316+3.43443736e-316j]])"
      ]
     },
     "execution_count": 123,
     "metadata": {},
     "output_type": "execute_result"
    }
   ],
   "source": [
    "conj(wf_dynamics[0])*wf_dynamics_exi[1:]"
   ]
  },
  {
   "cell_type": "code",
   "execution_count": null,
   "id": "11e557b7",
   "metadata": {},
   "outputs": [],
   "source": []
  }
 ],
 "metadata": {
  "kernelspec": {
   "display_name": "Python 3 (ipykernel)",
   "language": "python",
   "name": "python3"
  },
  "language_info": {
   "codemirror_mode": {
    "name": "ipython",
    "version": 3
   },
   "file_extension": ".py",
   "mimetype": "text/x-python",
   "name": "python",
   "nbconvert_exporter": "python",
   "pygments_lexer": "ipython3",
   "version": "3.9.13"
  },
  "toc": {
   "base_numbering": 1,
   "nav_menu": {},
   "number_sections": true,
   "sideBar": true,
   "skip_h1_title": false,
   "title_cell": "Table of Contents",
   "title_sidebar": "Contents",
   "toc_cell": false,
   "toc_position": {},
   "toc_section_display": true,
   "toc_window_display": false
  }
 },
 "nbformat": 4,
 "nbformat_minor": 5
}
