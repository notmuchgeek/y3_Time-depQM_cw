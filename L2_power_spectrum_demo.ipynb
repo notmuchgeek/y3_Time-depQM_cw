{
 "cells": [
  {
   "cell_type": "markdown",
   "metadata": {},
   "source": [
    "# Relationship between autocorrelation function timescales and power spectrum features\n",
    "\n",
    "The power spectrum is obtained from the autocorrelation function by performing an inverse Fourier transform\n",
    "\n",
    "$$S(\\omega)=\\mathcal{F}^{-1}\\left[\\left\\langle\\Psi(0)|\\Psi(t)\\right\\rangle\\right]$$\n",
    "\n",
    "Use the demonstration below to see how the different properties of the autocorrelation function in time affect the features of the power spectrum in frequency."
   ]
  },
  {
   "cell_type": "code",
   "execution_count": null,
   "metadata": {},
   "outputs": [],
   "source": [
    "import numpy as np\n",
    "%matplotlib inline\n",
    "import matplotlib.pyplot as plt\n",
    "from ipywidgets import interact\n",
    "from numpy.fft import fft,ifft,fftshift,ifftshift,fftfreq"
   ]
  },
  {
   "cell_type": "code",
   "execution_count": null,
   "metadata": {},
   "outputs": [],
   "source": [
    "def autocorr(t,short_dec,long_dec,freq):\n",
    "    '''An hypothetical form for the autocorrelation function'''\n",
    "    return np.cos(freq*t)**(2*short_dec)/np.cosh(long_dec*t)"
   ]
  },
  {
   "cell_type": "code",
   "execution_count": null,
   "metadata": {},
   "outputs": [],
   "source": [
    "t=np.linspace(0,100,2000)\n",
    "\n",
    "@interact(short_dec=(2,8,1),long_dec=(0.1,1,0.1),freq=(0.5,2,0.2))\n",
    "def aspec(short_dec=2,long_dec=0.5,freq=1):\n",
    "    ac=autocorr(t,short_dec,long_dec,freq)\n",
    "    \n",
    "    (fig,(ax1,ax2)) = plt.subplots(nrows=2,figsize=(10,8))\n",
    "    ax1.plot(t,ac)\n",
    "    ax1.set(xlim=(0,20),xlabel=\"t\",ylabel=\"$\\\\langle \\\\Psi(0) | \\\\Psi(t) \\\\rangle$\")\n",
    "    \n",
    "    ax2.plot(2*np.pi*fftshift(fftfreq(len(t),d=t[1]-t[0])),np.real(ifftshift(ifft(ac,norm=\"ortho\"))))\n",
    "    ax2.set(xlim=(-10,10),xlabel=\"$\\\\omega$\",ylabel=\"$Re(S(\\\\omega))$\")\n",
    "    plt.show()"
   ]
  }
 ],
 "metadata": {
  "kernelspec": {
   "display_name": "Python 3",
   "language": "python",
   "name": "python3"
  },
  "language_info": {
   "codemirror_mode": {
    "name": "ipython",
    "version": 3
   },
   "file_extension": ".py",
   "mimetype": "text/x-python",
   "name": "python",
   "nbconvert_exporter": "python",
   "pygments_lexer": "ipython3",
   "version": "3.7.3"
  }
 },
 "nbformat": 4,
 "nbformat_minor": 2
}
